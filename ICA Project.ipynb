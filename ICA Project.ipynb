{
 "cells": [
  {
   "cell_type": "markdown",
   "metadata": {},
   "source": [
    "<h1><center>ICA Project</center></h1>\n",
    "<h2><center>Stabilizing The Factors</center></h2>\n",
    "\n",
    "## Objective\n",
    "In this project you will use ICA and and Truncated PCA methods in order to find more stable covariance and correlation factors for intraday stock returns.\n",
    "\n",
    "## Data\n",
    "In this project, you will use the Nasdaq 100 intraday stock 1 minute bars. From the same dataset, you will also construct 5-minute, 15-minute and 30-minute bars.\n",
    "\n",
    "## Motivation\n",
    "Stock prices are known to become less-Gaussian at higher frequencies (e.g. see for example sec 2.4 in [Bouchaud and Potters' book](https://www.amazon.com/Theory-Financial-Risk-Derivative-Pricing/dp/0521819164), an evaluation version of which can be found [here](http://www.math.ku.dk/~rolf/Klaus/bouchaud-book.ps.pdf)). Even at daily frequencies, however, it is known that stock returns exhibit skewness which deviates from Gaussianity. In fact, most stock's volatility is known to be stochastic and negatively correlated with the spot price. Even the correlation between the spot and its volatility [seems to switch between regimes](http://www.javaquant.net/papers/derman_1999_regimes.pdf), and in addition it can vary from stock to stock.  At intraday frequencies, the stock distribution tends to become a bit more symmetric, but its [kurtosis becomes more anomalous](http://www.math.ku.dk/~rolf/Klaus/bouchaud-book.ps.pdf) giving rise to fatter tails. Moreover the volatility at intraday levels has a pronounced intraday pattern, with a spike at the beginning of the trading day and relaxation towards the end. \n",
    "\n",
    "It is well known that the stocks' empirical covariance and correlation matrices both have at least one significant factors. If one then believes that the returns of a given universe of stocks ${\\bf R}_t=(r_{1,t},...,r_{N,t})^T\\in{R}^N$ can be written as:\n",
    "$$\n",
    "{\\bf R}_t = {\\bf \\bar{R}} + {\\bf \\beta}{\\bf R^F}_t  + {\\bf \\varepsilon}_t\n",
    "$$\n",
    "Then the non-Gaussianity of individual stocks ${\\bf R}_t$ either comes from the idiosyncratic component ${\\varepsilon}_t$ or from at least some of the factors ${\\bf R}^F_t\\in{R}^K$ or from both. If we demean and normalize the returns to be of unit variance, and moreover absorb the factor variance into the loadings ${\\bf \\beta}$, the above equation becomes the exact starting point of ICA. \n",
    "\n",
    "The only difference would be that ${\\bf R}$ is $N$-dimensional and ${\\bf R^F}$ is $K$-dimensional. Do we subsample $K$ stocks in order to estimate ICA?"
   ]
  },
  {
   "cell_type": "markdown",
   "metadata": {},
   "source": [
    "## Methodology and Deliverables\n",
    "\n",
    "Submit all your code in the 'datasets/all_remaining_projects/ica_factors/' directory.\n",
    "\n",
    "Assume we have $\\bar{K}\\leq{K}\\ll{N}$ non-Gaussian factors at a given frequency. \n",
    "- For each of the frequencies $f=\\{1, 2, 5, 15, 30\\}$-min choose the total number of training bars to be $T=75$. For $1$-min bars this would correspond to less than $1/5$ of the trading day; for $5$-min bars this would be almost a full trading day, etc. \n",
    "\n",
    "Note that because we have $N=100$ stocks, the empirical covariance will not be full rank. However we can still perform rank-$K$ truncated SVD on the (standardized and demeaned) returns:\n",
    "$$\n",
    "{\\bf R} = {\\bf U_{N\\times{K}}D_KV^T_{N\\times{K}}}\n",
    "$$\n",
    "and interpret ${\\bf\\hat{R}^F\\equiv{D^{-1/2}}{V}^TR}$ as the time-series of matrix of $K$ univariate factors. The matrix ${\\bf V}$ represents the $K$ factor portfolios where the factor weights of the $k$-th portfolio are have unit $l_2$ norm, $|{\\bf v}_k|^2 = 1$.\n",
    "\n",
    "- For each of the frequencies above\n",
    "    - choose a sequence of $M$ or more non-overlapping mini-batch time periods, each starting from the same time of the trading day\n",
    "    - for each mini-batch period $m$ calculate the time-series of the $K$ covariance factors and their corresponding $l_2$ portfolios\n",
    "    - for each consecutive periods $m, m+1$ calculate the $l_2$ overlap between the $k$-th covariance portfolio at period $m$ and that at period $m + 1$. What do the time series of these overlaps look like as a function of the factor rank $k$? Explain your observations.\n",
    "    - For $1$-min adn $1$-min returns we can calculate also overlap between factor portfolios at different parts of the day. What is the overlap between $k-$th factor at the beginning vs middle vs end of the day? Explain your observations.\n",
    "    \n",
    "- For each of the factor timeseries above we can perform $K-$ component ICA and obtain ICA-factor timeseries and the ICA mixing matrix:\n",
    "    - What $l_2$ stock portfolios do these ICA factors correspond to?\n",
    "    - Compute the consecutive period overlap of these portfolios and plot the time series as you did before. Explain your observations.\n",
    "    - What happens when you vary $K=2,3,...$\n",
    "    - Can you find the maximal number $\\bar{K}$ of non-Gaussian factors for each period? Plot $\\bar{K}$ as a function of minibatch number $m$ and also investigate what happens to $\\bar{K}$ as a function of frequency.\n",
    "\n",
    "- How many non-linear factors are there as a function of date, time of day, and frequency?\n",
    "    - plot the *price* time series of the first 5 factors (ranked by variance)\n",
    "        - make sure you don't look into the future. E.g. estimate the factor at minibatch period $m$ and trade it at $m+1$.\n",
    "        - which one of these factors have a significant risk premium?\n",
    "\n",
    "- (Bonus) Are any of the remaining (presumably Gaussian) factors significant?\n",
    "\n",
    "    \n",
    "    "
   ]
  },
  {
   "cell_type": "markdown",
   "metadata": {},
   "source": [
    "### README file and code\n",
    "\n",
    "Create a README_db.txt file containing:\n",
    "- The names and emails of all the teammates so you can be contacted by the next user of the dataset\n",
    "- Description of your code base and how it can be used by others\n",
    "- Outline who was resposible for which part of the project\n",
    "\n",
    "Make sure you document your notebooks with explanations so others in the class can use them!"
   ]
  }
 ],
 "metadata": {
  "kernelspec": {
   "display_name": "Python 3",
   "language": "python",
   "name": "python3"
  },
  "language_info": {
   "codemirror_mode": {
    "name": "ipython",
    "version": 3
   },
   "file_extension": ".py",
   "mimetype": "text/x-python",
   "name": "python",
   "nbconvert_exporter": "python",
   "pygments_lexer": "ipython3",
   "version": "3.6.1"
  }
 },
 "nbformat": 4,
 "nbformat_minor": 2
}
